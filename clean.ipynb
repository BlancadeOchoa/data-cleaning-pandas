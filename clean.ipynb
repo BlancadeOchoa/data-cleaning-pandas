{
 "cells": [
  {
   "cell_type": "code",
   "execution_count": 582,
   "metadata": {},
   "outputs": [],
   "source": [
    "import re\n",
    "import pandas as pd\n",
    "import numpy as np\n",
    "import matplotlib.pyplot as plt\n",
    "%matplotlib inline"
   ]
  },
  {
   "cell_type": "code",
   "execution_count": 583,
   "metadata": {},
   "outputs": [
    {
     "data": {
      "text/plain": [
       "{'encoding': 'Windows-1252', 'confidence': 0.73, 'language': ''}"
      ]
     },
     "execution_count": 583,
     "metadata": {},
     "output_type": "execute_result"
    }
   ],
   "source": [
    "import chardet\n",
    "with open('attacks.csv', 'rb') as rawdata:\n",
    "    result = chardet.detect(rawdata.read(100000))\n",
    "result"
   ]
  },
  {
   "cell_type": "code",
   "execution_count": 584,
   "metadata": {},
   "outputs": [
    {
     "data": {
      "text/html": [
       "<div>\n",
       "<style scoped>\n",
       "    .dataframe tbody tr th:only-of-type {\n",
       "        vertical-align: middle;\n",
       "    }\n",
       "\n",
       "    .dataframe tbody tr th {\n",
       "        vertical-align: top;\n",
       "    }\n",
       "\n",
       "    .dataframe thead th {\n",
       "        text-align: right;\n",
       "    }\n",
       "</style>\n",
       "<table border=\"1\" class=\"dataframe\">\n",
       "  <thead>\n",
       "    <tr style=\"text-align: right;\">\n",
       "      <th></th>\n",
       "      <th>Case Number</th>\n",
       "      <th>Date</th>\n",
       "      <th>Year</th>\n",
       "      <th>Type</th>\n",
       "      <th>Country</th>\n",
       "      <th>Area</th>\n",
       "      <th>Location</th>\n",
       "      <th>Activity</th>\n",
       "      <th>Name</th>\n",
       "      <th>Sex</th>\n",
       "      <th>...</th>\n",
       "      <th>Species</th>\n",
       "      <th>Investigator or Source</th>\n",
       "      <th>pdf</th>\n",
       "      <th>href formula</th>\n",
       "      <th>href</th>\n",
       "      <th>Case Number.1</th>\n",
       "      <th>Case Number.2</th>\n",
       "      <th>original order</th>\n",
       "      <th>Unnamed: 22</th>\n",
       "      <th>Unnamed: 23</th>\n",
       "    </tr>\n",
       "  </thead>\n",
       "  <tbody>\n",
       "    <tr>\n",
       "      <th>0</th>\n",
       "      <td>2018.06.25</td>\n",
       "      <td>25-Jun-2018</td>\n",
       "      <td>2018.0</td>\n",
       "      <td>Boating</td>\n",
       "      <td>USA</td>\n",
       "      <td>California</td>\n",
       "      <td>Oceanside, San Diego County</td>\n",
       "      <td>Paddling</td>\n",
       "      <td>Julie Wolfe</td>\n",
       "      <td>F</td>\n",
       "      <td>...</td>\n",
       "      <td>White shark</td>\n",
       "      <td>R. Collier, GSAF</td>\n",
       "      <td>2018.06.25-Wolfe.pdf</td>\n",
       "      <td>http://sharkattackfile.net/spreadsheets/pdf_di...</td>\n",
       "      <td>http://sharkattackfile.net/spreadsheets/pdf_di...</td>\n",
       "      <td>2018.06.25</td>\n",
       "      <td>2018.06.25</td>\n",
       "      <td>6303.0</td>\n",
       "      <td>NaN</td>\n",
       "      <td>NaN</td>\n",
       "    </tr>\n",
       "    <tr>\n",
       "      <th>1</th>\n",
       "      <td>2018.06.18</td>\n",
       "      <td>18-Jun-2018</td>\n",
       "      <td>2018.0</td>\n",
       "      <td>Unprovoked</td>\n",
       "      <td>USA</td>\n",
       "      <td>Georgia</td>\n",
       "      <td>St. Simon Island, Glynn County</td>\n",
       "      <td>Standing</td>\n",
       "      <td>Adyson McNeely</td>\n",
       "      <td>F</td>\n",
       "      <td>...</td>\n",
       "      <td>NaN</td>\n",
       "      <td>K.McMurray, TrackingSharks.com</td>\n",
       "      <td>2018.06.18-McNeely.pdf</td>\n",
       "      <td>http://sharkattackfile.net/spreadsheets/pdf_di...</td>\n",
       "      <td>http://sharkattackfile.net/spreadsheets/pdf_di...</td>\n",
       "      <td>2018.06.18</td>\n",
       "      <td>2018.06.18</td>\n",
       "      <td>6302.0</td>\n",
       "      <td>NaN</td>\n",
       "      <td>NaN</td>\n",
       "    </tr>\n",
       "    <tr>\n",
       "      <th>2</th>\n",
       "      <td>2018.06.09</td>\n",
       "      <td>09-Jun-2018</td>\n",
       "      <td>2018.0</td>\n",
       "      <td>Invalid</td>\n",
       "      <td>USA</td>\n",
       "      <td>Hawaii</td>\n",
       "      <td>Habush, Oahu</td>\n",
       "      <td>Surfing</td>\n",
       "      <td>John Denges</td>\n",
       "      <td>M</td>\n",
       "      <td>...</td>\n",
       "      <td>NaN</td>\n",
       "      <td>K.McMurray, TrackingSharks.com</td>\n",
       "      <td>2018.06.09-Denges.pdf</td>\n",
       "      <td>http://sharkattackfile.net/spreadsheets/pdf_di...</td>\n",
       "      <td>http://sharkattackfile.net/spreadsheets/pdf_di...</td>\n",
       "      <td>2018.06.09</td>\n",
       "      <td>2018.06.09</td>\n",
       "      <td>6301.0</td>\n",
       "      <td>NaN</td>\n",
       "      <td>NaN</td>\n",
       "    </tr>\n",
       "    <tr>\n",
       "      <th>3</th>\n",
       "      <td>2018.06.08</td>\n",
       "      <td>08-Jun-2018</td>\n",
       "      <td>2018.0</td>\n",
       "      <td>Unprovoked</td>\n",
       "      <td>AUSTRALIA</td>\n",
       "      <td>New South Wales</td>\n",
       "      <td>Arrawarra Headland</td>\n",
       "      <td>Surfing</td>\n",
       "      <td>male</td>\n",
       "      <td>M</td>\n",
       "      <td>...</td>\n",
       "      <td>2 m shark</td>\n",
       "      <td>B. Myatt, GSAF</td>\n",
       "      <td>2018.06.08-Arrawarra.pdf</td>\n",
       "      <td>http://sharkattackfile.net/spreadsheets/pdf_di...</td>\n",
       "      <td>http://sharkattackfile.net/spreadsheets/pdf_di...</td>\n",
       "      <td>2018.06.08</td>\n",
       "      <td>2018.06.08</td>\n",
       "      <td>6300.0</td>\n",
       "      <td>NaN</td>\n",
       "      <td>NaN</td>\n",
       "    </tr>\n",
       "    <tr>\n",
       "      <th>4</th>\n",
       "      <td>2018.06.04</td>\n",
       "      <td>04-Jun-2018</td>\n",
       "      <td>2018.0</td>\n",
       "      <td>Provoked</td>\n",
       "      <td>MEXICO</td>\n",
       "      <td>Colima</td>\n",
       "      <td>La Ticla</td>\n",
       "      <td>Free diving</td>\n",
       "      <td>Gustavo Ramos</td>\n",
       "      <td>M</td>\n",
       "      <td>...</td>\n",
       "      <td>Tiger shark, 3m</td>\n",
       "      <td>A .Kipper</td>\n",
       "      <td>2018.06.04-Ramos.pdf</td>\n",
       "      <td>http://sharkattackfile.net/spreadsheets/pdf_di...</td>\n",
       "      <td>http://sharkattackfile.net/spreadsheets/pdf_di...</td>\n",
       "      <td>2018.06.04</td>\n",
       "      <td>2018.06.04</td>\n",
       "      <td>6299.0</td>\n",
       "      <td>NaN</td>\n",
       "      <td>NaN</td>\n",
       "    </tr>\n",
       "  </tbody>\n",
       "</table>\n",
       "<p>5 rows × 24 columns</p>\n",
       "</div>"
      ],
      "text/plain": [
       "  Case Number         Date    Year        Type    Country             Area  \\\n",
       "0  2018.06.25  25-Jun-2018  2018.0     Boating        USA       California   \n",
       "1  2018.06.18  18-Jun-2018  2018.0  Unprovoked        USA          Georgia   \n",
       "2  2018.06.09  09-Jun-2018  2018.0     Invalid        USA           Hawaii   \n",
       "3  2018.06.08  08-Jun-2018  2018.0  Unprovoked  AUSTRALIA  New South Wales   \n",
       "4  2018.06.04  04-Jun-2018  2018.0    Provoked     MEXICO           Colima   \n",
       "\n",
       "                         Location     Activity             Name Sex   ...  \\\n",
       "0     Oceanside, San Diego County     Paddling      Julie Wolfe    F  ...   \n",
       "1  St. Simon Island, Glynn County     Standing  Adyson McNeely     F  ...   \n",
       "2                    Habush, Oahu      Surfing      John Denges    M  ...   \n",
       "3              Arrawarra Headland      Surfing             male    M  ...   \n",
       "4                        La Ticla  Free diving   Gustavo Ramos     M  ...   \n",
       "\n",
       "          Species           Investigator or Source                       pdf  \\\n",
       "0      White shark                R. Collier, GSAF      2018.06.25-Wolfe.pdf   \n",
       "1              NaN  K.McMurray, TrackingSharks.com    2018.06.18-McNeely.pdf   \n",
       "2              NaN  K.McMurray, TrackingSharks.com     2018.06.09-Denges.pdf   \n",
       "3        2 m shark                  B. Myatt, GSAF  2018.06.08-Arrawarra.pdf   \n",
       "4  Tiger shark, 3m                       A .Kipper      2018.06.04-Ramos.pdf   \n",
       "\n",
       "                                        href formula  \\\n",
       "0  http://sharkattackfile.net/spreadsheets/pdf_di...   \n",
       "1  http://sharkattackfile.net/spreadsheets/pdf_di...   \n",
       "2  http://sharkattackfile.net/spreadsheets/pdf_di...   \n",
       "3  http://sharkattackfile.net/spreadsheets/pdf_di...   \n",
       "4  http://sharkattackfile.net/spreadsheets/pdf_di...   \n",
       "\n",
       "                                                href Case Number.1  \\\n",
       "0  http://sharkattackfile.net/spreadsheets/pdf_di...    2018.06.25   \n",
       "1  http://sharkattackfile.net/spreadsheets/pdf_di...    2018.06.18   \n",
       "2  http://sharkattackfile.net/spreadsheets/pdf_di...    2018.06.09   \n",
       "3  http://sharkattackfile.net/spreadsheets/pdf_di...    2018.06.08   \n",
       "4  http://sharkattackfile.net/spreadsheets/pdf_di...    2018.06.04   \n",
       "\n",
       "  Case Number.2 original order Unnamed: 22 Unnamed: 23  \n",
       "0    2018.06.25         6303.0         NaN         NaN  \n",
       "1    2018.06.18         6302.0         NaN         NaN  \n",
       "2    2018.06.09         6301.0         NaN         NaN  \n",
       "3    2018.06.08         6300.0         NaN         NaN  \n",
       "4    2018.06.04         6299.0         NaN         NaN  \n",
       "\n",
       "[5 rows x 24 columns]"
      ]
     },
     "execution_count": 584,
     "metadata": {},
     "output_type": "execute_result"
    }
   ],
   "source": [
    "shark_attacks = pd.read_csv('attacks.csv',encoding='Windows-1252')\n",
    "shark_attacks.head()"
   ]
  },
  {
   "cell_type": "code",
   "execution_count": 585,
   "metadata": {},
   "outputs": [
    {
     "name": "stdout",
     "output_type": "stream",
     "text": [
      "['Case Number' 'Date' 'Year' 'Type' 'Country' 'Area' 'Location' 'Activity'\n",
      " 'Name' 'Sex ' 'Age' 'Injury' 'Fatal (Y/N)' 'Time' 'Species '\n",
      " 'Investigator or Source' 'pdf' 'href formula' 'href' 'Case Number.1'\n",
      " 'Case Number.2' 'original order' 'Unnamed: 22' 'Unnamed: 23']\n"
     ]
    }
   ],
   "source": [
    "#STEPS TO CLEAN THE DATA:\n",
    "\n",
    "#1. Drop the columns I'm not going to use\n",
    "print(shark_attacks.columns.values)"
   ]
  },
  {
   "cell_type": "code",
   "execution_count": 586,
   "metadata": {},
   "outputs": [],
   "source": [
    "to_drop = ['Name','href formula','href','Unnamed: 22','Unnamed: 23','Type','original order','pdf','Time','Location','Injury']\n",
    "shark_attacks.drop(to_drop, inplace=True, axis=1)\n"
   ]
  },
  {
   "cell_type": "code",
   "execution_count": 587,
   "metadata": {},
   "outputs": [],
   "source": [
    "#We want to drop more columns, but in a clever way, if we keep looking, you can see several columns give the \n",
    "#same information, eg: case number, date,year, case number1, case number2.\n",
    "#We want to keep just one of them, to do that we are going to check wich one has less NaN"
   ]
  },
  {
   "cell_type": "code",
   "execution_count": 588,
   "metadata": {
    "scrolled": true
   },
   "outputs": [
    {
     "data": {
      "text/plain": [
       "Case Number               17021\n",
       "Date                      19421\n",
       "Year                      19423\n",
       "Country                   19471\n",
       "Area                      19876\n",
       "Activity                  19965\n",
       "Sex                       19986\n",
       "Age                       22252\n",
       "Fatal (Y/N)               19960\n",
       "Species                   22259\n",
       "Investigator or Source    19438\n",
       "Case Number.1             19421\n",
       "Case Number.2             19421\n",
       "dtype: int64"
      ]
     },
     "execution_count": 588,
     "metadata": {},
     "output_type": "execute_result"
    }
   ],
   "source": [
    "shark_attacks.isnull().sum()\n",
    "#From here, we extract the number of values from each column:\n",
    "#case number = 17021, \n",
    "#date = 19421\n",
    "#year = 19423\n",
    "#case number1 == case number2 == 19421\n",
    "#The cleanest one is year hence why I decide to keep that one"
   ]
  },
  {
   "cell_type": "code",
   "execution_count": 589,
   "metadata": {},
   "outputs": [
    {
     "data": {
      "text/html": [
       "<div>\n",
       "<style scoped>\n",
       "    .dataframe tbody tr th:only-of-type {\n",
       "        vertical-align: middle;\n",
       "    }\n",
       "\n",
       "    .dataframe tbody tr th {\n",
       "        vertical-align: top;\n",
       "    }\n",
       "\n",
       "    .dataframe thead th {\n",
       "        text-align: right;\n",
       "    }\n",
       "</style>\n",
       "<table border=\"1\" class=\"dataframe\">\n",
       "  <thead>\n",
       "    <tr style=\"text-align: right;\">\n",
       "      <th></th>\n",
       "      <th>Year</th>\n",
       "      <th>Country</th>\n",
       "      <th>Area</th>\n",
       "      <th>Activity</th>\n",
       "      <th>Sex</th>\n",
       "      <th>Age</th>\n",
       "      <th>Fatal (Y/N)</th>\n",
       "      <th>Species</th>\n",
       "      <th>Investigator or Source</th>\n",
       "    </tr>\n",
       "  </thead>\n",
       "  <tbody>\n",
       "    <tr>\n",
       "      <th>0</th>\n",
       "      <td>2018.0</td>\n",
       "      <td>USA</td>\n",
       "      <td>California</td>\n",
       "      <td>Paddling</td>\n",
       "      <td>F</td>\n",
       "      <td>57</td>\n",
       "      <td>N</td>\n",
       "      <td>White shark</td>\n",
       "      <td>R. Collier, GSAF</td>\n",
       "    </tr>\n",
       "    <tr>\n",
       "      <th>1</th>\n",
       "      <td>2018.0</td>\n",
       "      <td>USA</td>\n",
       "      <td>Georgia</td>\n",
       "      <td>Standing</td>\n",
       "      <td>F</td>\n",
       "      <td>11</td>\n",
       "      <td>N</td>\n",
       "      <td>NaN</td>\n",
       "      <td>K.McMurray, TrackingSharks.com</td>\n",
       "    </tr>\n",
       "    <tr>\n",
       "      <th>2</th>\n",
       "      <td>2018.0</td>\n",
       "      <td>USA</td>\n",
       "      <td>Hawaii</td>\n",
       "      <td>Surfing</td>\n",
       "      <td>M</td>\n",
       "      <td>48</td>\n",
       "      <td>N</td>\n",
       "      <td>NaN</td>\n",
       "      <td>K.McMurray, TrackingSharks.com</td>\n",
       "    </tr>\n",
       "    <tr>\n",
       "      <th>3</th>\n",
       "      <td>2018.0</td>\n",
       "      <td>AUSTRALIA</td>\n",
       "      <td>New South Wales</td>\n",
       "      <td>Surfing</td>\n",
       "      <td>M</td>\n",
       "      <td>NaN</td>\n",
       "      <td>N</td>\n",
       "      <td>2 m shark</td>\n",
       "      <td>B. Myatt, GSAF</td>\n",
       "    </tr>\n",
       "    <tr>\n",
       "      <th>4</th>\n",
       "      <td>2018.0</td>\n",
       "      <td>MEXICO</td>\n",
       "      <td>Colima</td>\n",
       "      <td>Free diving</td>\n",
       "      <td>M</td>\n",
       "      <td>NaN</td>\n",
       "      <td>N</td>\n",
       "      <td>Tiger shark, 3m</td>\n",
       "      <td>A .Kipper</td>\n",
       "    </tr>\n",
       "  </tbody>\n",
       "</table>\n",
       "</div>"
      ],
      "text/plain": [
       "     Year    Country             Area     Activity Sex   Age Fatal (Y/N)  \\\n",
       "0  2018.0        USA       California     Paddling    F   57           N   \n",
       "1  2018.0        USA          Georgia     Standing    F   11           N   \n",
       "2  2018.0        USA           Hawaii      Surfing    M   48           N   \n",
       "3  2018.0  AUSTRALIA  New South Wales      Surfing    M  NaN           N   \n",
       "4  2018.0     MEXICO           Colima  Free diving    M  NaN           N   \n",
       "\n",
       "          Species           Investigator or Source  \n",
       "0      White shark                R. Collier, GSAF  \n",
       "1              NaN  K.McMurray, TrackingSharks.com  \n",
       "2              NaN  K.McMurray, TrackingSharks.com  \n",
       "3        2 m shark                  B. Myatt, GSAF  \n",
       "4  Tiger shark, 3m                       A .Kipper  "
      ]
     },
     "execution_count": 589,
     "metadata": {},
     "output_type": "execute_result"
    }
   ],
   "source": [
    "to_drop = ['Date','Case Number','Case Number.1','Case Number.2']\n",
    "shark_attacks.drop(to_drop, inplace=True, axis=1)\n",
    "shark_attacks.head()"
   ]
  },
  {
   "cell_type": "code",
   "execution_count": 590,
   "metadata": {},
   "outputs": [
    {
     "data": {
      "text/html": [
       "<div>\n",
       "<style scoped>\n",
       "    .dataframe tbody tr th:only-of-type {\n",
       "        vertical-align: middle;\n",
       "    }\n",
       "\n",
       "    .dataframe tbody tr th {\n",
       "        vertical-align: top;\n",
       "    }\n",
       "\n",
       "    .dataframe thead th {\n",
       "        text-align: right;\n",
       "    }\n",
       "</style>\n",
       "<table border=\"1\" class=\"dataframe\">\n",
       "  <thead>\n",
       "    <tr style=\"text-align: right;\">\n",
       "      <th></th>\n",
       "      <th>Year</th>\n",
       "      <th>Country</th>\n",
       "      <th>Area</th>\n",
       "      <th>Activity</th>\n",
       "      <th>Sex</th>\n",
       "      <th>Age</th>\n",
       "      <th>Fatal (Y/N)</th>\n",
       "      <th>Species</th>\n",
       "      <th>Investigator or Source</th>\n",
       "    </tr>\n",
       "  </thead>\n",
       "  <tbody>\n",
       "    <tr>\n",
       "      <th>0</th>\n",
       "      <td>2018.0</td>\n",
       "      <td>USA</td>\n",
       "      <td>California</td>\n",
       "      <td>Paddling</td>\n",
       "      <td>F</td>\n",
       "      <td>57</td>\n",
       "      <td>N</td>\n",
       "      <td>White shark</td>\n",
       "      <td>R. Collier, GSAF</td>\n",
       "    </tr>\n",
       "    <tr>\n",
       "      <th>1</th>\n",
       "      <td>2018.0</td>\n",
       "      <td>USA</td>\n",
       "      <td>Georgia</td>\n",
       "      <td>Standing</td>\n",
       "      <td>F</td>\n",
       "      <td>11</td>\n",
       "      <td>N</td>\n",
       "      <td>NaN</td>\n",
       "      <td>K.McMurray, TrackingSharks.com</td>\n",
       "    </tr>\n",
       "    <tr>\n",
       "      <th>2</th>\n",
       "      <td>2018.0</td>\n",
       "      <td>USA</td>\n",
       "      <td>Hawaii</td>\n",
       "      <td>Surfing</td>\n",
       "      <td>M</td>\n",
       "      <td>48</td>\n",
       "      <td>N</td>\n",
       "      <td>NaN</td>\n",
       "      <td>K.McMurray, TrackingSharks.com</td>\n",
       "    </tr>\n",
       "    <tr>\n",
       "      <th>3</th>\n",
       "      <td>2018.0</td>\n",
       "      <td>AUSTRALIA</td>\n",
       "      <td>New South Wales</td>\n",
       "      <td>Surfing</td>\n",
       "      <td>M</td>\n",
       "      <td>NaN</td>\n",
       "      <td>N</td>\n",
       "      <td>2 m shark</td>\n",
       "      <td>B. Myatt, GSAF</td>\n",
       "    </tr>\n",
       "    <tr>\n",
       "      <th>4</th>\n",
       "      <td>2018.0</td>\n",
       "      <td>MEXICO</td>\n",
       "      <td>Colima</td>\n",
       "      <td>Free diving</td>\n",
       "      <td>M</td>\n",
       "      <td>NaN</td>\n",
       "      <td>N</td>\n",
       "      <td>Tiger shark, 3m</td>\n",
       "      <td>A .Kipper</td>\n",
       "    </tr>\n",
       "  </tbody>\n",
       "</table>\n",
       "</div>"
      ],
      "text/plain": [
       "     Year    Country             Area     Activity Sex   Age Fatal (Y/N)  \\\n",
       "0  2018.0        USA       California     Paddling    F   57           N   \n",
       "1  2018.0        USA          Georgia     Standing    F   11           N   \n",
       "2  2018.0        USA           Hawaii      Surfing    M   48           N   \n",
       "3  2018.0  AUSTRALIA  New South Wales      Surfing    M  NaN           N   \n",
       "4  2018.0     MEXICO           Colima  Free diving    M  NaN           N   \n",
       "\n",
       "          Species           Investigator or Source  \n",
       "0      White shark                R. Collier, GSAF  \n",
       "1              NaN  K.McMurray, TrackingSharks.com  \n",
       "2              NaN  K.McMurray, TrackingSharks.com  \n",
       "3        2 m shark                  B. Myatt, GSAF  \n",
       "4  Tiger shark, 3m                       A .Kipper  "
      ]
     },
     "execution_count": 590,
     "metadata": {},
     "output_type": "execute_result"
    }
   ],
   "source": [
    "#2. Once the columns we no longer need are dropped, we check for duplicates and null values in the \n",
    "#remaining columns\n",
    "\n",
    "shark_attacks.drop_duplicates(inplace=True)\n",
    "shark_attacks.head()"
   ]
  },
  {
   "cell_type": "code",
   "execution_count": 591,
   "metadata": {},
   "outputs": [
    {
     "data": {
      "text/plain": [
       "Year                         3\n",
       "Country                     50\n",
       "Area                       450\n",
       "Activity                   539\n",
       "Sex                        562\n",
       "Age                       2803\n",
       "Fatal (Y/N)                540\n",
       "Species                   2814\n",
       "Investigator or Source      18\n",
       "dtype: int64"
      ]
     },
     "execution_count": 591,
     "metadata": {},
     "output_type": "execute_result"
    }
   ],
   "source": [
    "shark_attacks.isnull().sum() #displays  the nulls\n",
    "#From this, we can see a lot of values are null."
   ]
  },
  {
   "cell_type": "code",
   "execution_count": 592,
   "metadata": {},
   "outputs": [
    {
     "data": {
      "text/html": [
       "<div>\n",
       "<style scoped>\n",
       "    .dataframe tbody tr th:only-of-type {\n",
       "        vertical-align: middle;\n",
       "    }\n",
       "\n",
       "    .dataframe tbody tr th {\n",
       "        vertical-align: top;\n",
       "    }\n",
       "\n",
       "    .dataframe thead th {\n",
       "        text-align: right;\n",
       "    }\n",
       "</style>\n",
       "<table border=\"1\" class=\"dataframe\">\n",
       "  <thead>\n",
       "    <tr style=\"text-align: right;\">\n",
       "      <th></th>\n",
       "      <th>Year</th>\n",
       "      <th>Country</th>\n",
       "      <th>Area</th>\n",
       "      <th>Activity</th>\n",
       "      <th>Sex</th>\n",
       "      <th>Age</th>\n",
       "      <th>Fatal (Y/N)</th>\n",
       "      <th>Species</th>\n",
       "      <th>Investigator or Source</th>\n",
       "    </tr>\n",
       "  </thead>\n",
       "  <tbody>\n",
       "    <tr>\n",
       "      <th>6297</th>\n",
       "      <td>0.0</td>\n",
       "      <td>AUSTRALIA</td>\n",
       "      <td>Western Australia</td>\n",
       "      <td>Diving</td>\n",
       "      <td>M</td>\n",
       "      <td>NaN</td>\n",
       "      <td>Y</td>\n",
       "      <td>NaN</td>\n",
       "      <td>H. Taunton; N. Bartlett,  p. 234</td>\n",
       "    </tr>\n",
       "    <tr>\n",
       "      <th>6298</th>\n",
       "      <td>0.0</td>\n",
       "      <td>AUSTRALIA</td>\n",
       "      <td>Western Australia</td>\n",
       "      <td>Pearl diving</td>\n",
       "      <td>M</td>\n",
       "      <td>NaN</td>\n",
       "      <td>Y</td>\n",
       "      <td>NaN</td>\n",
       "      <td>H. Taunton; N. Bartlett,  pp. 233-234</td>\n",
       "    </tr>\n",
       "    <tr>\n",
       "      <th>6299</th>\n",
       "      <td>0.0</td>\n",
       "      <td>USA</td>\n",
       "      <td>North Carolina</td>\n",
       "      <td>Swimming</td>\n",
       "      <td>M</td>\n",
       "      <td>NaN</td>\n",
       "      <td>Y</td>\n",
       "      <td>NaN</td>\n",
       "      <td>F. Schwartz, p.23; C. Creswell, GSAF</td>\n",
       "    </tr>\n",
       "    <tr>\n",
       "      <th>6300</th>\n",
       "      <td>0.0</td>\n",
       "      <td>PANAMA</td>\n",
       "      <td>NaN</td>\n",
       "      <td>NaN</td>\n",
       "      <td>M</td>\n",
       "      <td>NaN</td>\n",
       "      <td>Y</td>\n",
       "      <td>NaN</td>\n",
       "      <td>The Sun, 10/20/1938</td>\n",
       "    </tr>\n",
       "    <tr>\n",
       "      <th>6301</th>\n",
       "      <td>0.0</td>\n",
       "      <td>CEYLON (SRI LANKA)</td>\n",
       "      <td>Eastern Province</td>\n",
       "      <td>Swimming</td>\n",
       "      <td>M</td>\n",
       "      <td>15</td>\n",
       "      <td>Y</td>\n",
       "      <td>NaN</td>\n",
       "      <td>S.W. Baker</td>\n",
       "    </tr>\n",
       "  </tbody>\n",
       "</table>\n",
       "</div>"
      ],
      "text/plain": [
       "      Year             Country               Area      Activity Sex   Age  \\\n",
       "6297   0.0           AUSTRALIA  Western Australia        Diving    M  NaN   \n",
       "6298   0.0           AUSTRALIA  Western Australia  Pearl diving    M  NaN   \n",
       "6299   0.0                 USA     North Carolina      Swimming    M  NaN   \n",
       "6300   0.0              PANAMA                NaN           NaN    M  NaN   \n",
       "6301   0.0  CEYLON (SRI LANKA)   Eastern Province      Swimming    M   15   \n",
       "\n",
       "     Fatal (Y/N) Species                  Investigator or Source  \n",
       "6297           Y      NaN       H. Taunton; N. Bartlett,  p. 234  \n",
       "6298           Y      NaN  H. Taunton; N. Bartlett,  pp. 233-234  \n",
       "6299           Y      NaN   F. Schwartz, p.23; C. Creswell, GSAF  \n",
       "6300           Y      NaN                    The Sun, 10/20/1938  \n",
       "6301           Y      NaN                             S.W. Baker  "
      ]
     },
     "execution_count": 592,
     "metadata": {},
     "output_type": "execute_result"
    }
   ],
   "source": [
    "#Therefore, I decide to drop all the rows in wich ALL the elements are null\n",
    "shark_attacks.dropna(how = 'all', inplace = True)\n",
    "shark_attacks.tail() #Doing this we see we now have 8703 rows, therefore we have almost dropped 2/3 \n",
    "#of the data we initially had"
   ]
  },
  {
   "cell_type": "code",
   "execution_count": 593,
   "metadata": {},
   "outputs": [
    {
     "data": {
      "text/html": [
       "<div>\n",
       "<style scoped>\n",
       "    .dataframe tbody tr th:only-of-type {\n",
       "        vertical-align: middle;\n",
       "    }\n",
       "\n",
       "    .dataframe tbody tr th {\n",
       "        vertical-align: top;\n",
       "    }\n",
       "\n",
       "    .dataframe thead th {\n",
       "        text-align: right;\n",
       "    }\n",
       "</style>\n",
       "<table border=\"1\" class=\"dataframe\">\n",
       "  <thead>\n",
       "    <tr style=\"text-align: right;\">\n",
       "      <th></th>\n",
       "      <th>Year</th>\n",
       "      <th>Country</th>\n",
       "      <th>Area</th>\n",
       "      <th>Activity</th>\n",
       "      <th>Sex</th>\n",
       "      <th>Age</th>\n",
       "      <th>Fatal (Y/N)</th>\n",
       "      <th>Species</th>\n",
       "      <th>Investigator or Source</th>\n",
       "    </tr>\n",
       "  </thead>\n",
       "  <tbody>\n",
       "    <tr>\n",
       "      <th>6297</th>\n",
       "      <td>0.0</td>\n",
       "      <td>AUSTRALIA</td>\n",
       "      <td>Western Australia</td>\n",
       "      <td>Diving</td>\n",
       "      <td>M</td>\n",
       "      <td>NaN</td>\n",
       "      <td>Y</td>\n",
       "      <td>NaN</td>\n",
       "      <td>H. Taunton; N. Bartlett,  p. 234</td>\n",
       "    </tr>\n",
       "    <tr>\n",
       "      <th>6298</th>\n",
       "      <td>0.0</td>\n",
       "      <td>AUSTRALIA</td>\n",
       "      <td>Western Australia</td>\n",
       "      <td>Pearl diving</td>\n",
       "      <td>M</td>\n",
       "      <td>NaN</td>\n",
       "      <td>Y</td>\n",
       "      <td>NaN</td>\n",
       "      <td>H. Taunton; N. Bartlett,  pp. 233-234</td>\n",
       "    </tr>\n",
       "    <tr>\n",
       "      <th>6299</th>\n",
       "      <td>0.0</td>\n",
       "      <td>USA</td>\n",
       "      <td>North Carolina</td>\n",
       "      <td>Swimming</td>\n",
       "      <td>M</td>\n",
       "      <td>NaN</td>\n",
       "      <td>Y</td>\n",
       "      <td>NaN</td>\n",
       "      <td>F. Schwartz, p.23; C. Creswell, GSAF</td>\n",
       "    </tr>\n",
       "    <tr>\n",
       "      <th>6300</th>\n",
       "      <td>0.0</td>\n",
       "      <td>PANAMA</td>\n",
       "      <td>NaN</td>\n",
       "      <td>NaN</td>\n",
       "      <td>M</td>\n",
       "      <td>NaN</td>\n",
       "      <td>Y</td>\n",
       "      <td>NaN</td>\n",
       "      <td>The Sun, 10/20/1938</td>\n",
       "    </tr>\n",
       "    <tr>\n",
       "      <th>6301</th>\n",
       "      <td>0.0</td>\n",
       "      <td>CEYLON (SRI LANKA)</td>\n",
       "      <td>Eastern Province</td>\n",
       "      <td>Swimming</td>\n",
       "      <td>M</td>\n",
       "      <td>15</td>\n",
       "      <td>Y</td>\n",
       "      <td>NaN</td>\n",
       "      <td>S.W. Baker</td>\n",
       "    </tr>\n",
       "  </tbody>\n",
       "</table>\n",
       "</div>"
      ],
      "text/plain": [
       "      Year             Country               Area      Activity Sex   Age  \\\n",
       "6297   0.0           AUSTRALIA  Western Australia        Diving    M  NaN   \n",
       "6298   0.0           AUSTRALIA  Western Australia  Pearl diving    M  NaN   \n",
       "6299   0.0                 USA     North Carolina      Swimming    M  NaN   \n",
       "6300   0.0              PANAMA                NaN           NaN    M  NaN   \n",
       "6301   0.0  CEYLON (SRI LANKA)   Eastern Province      Swimming    M   15   \n",
       "\n",
       "     Fatal (Y/N) Species                  Investigator or Source  \n",
       "6297           Y      NaN       H. Taunton; N. Bartlett,  p. 234  \n",
       "6298           Y      NaN  H. Taunton; N. Bartlett,  pp. 233-234  \n",
       "6299           Y      NaN   F. Schwartz, p.23; C. Creswell, GSAF  \n",
       "6300           Y      NaN                    The Sun, 10/20/1938  \n",
       "6301           Y      NaN                             S.W. Baker  "
      ]
     },
     "execution_count": 593,
     "metadata": {},
     "output_type": "execute_result"
    }
   ],
   "source": [
    "#As we can see, there are still a lot of columns that have values that cant be used, to get rid of these, but avoid \n",
    "#dropping useful info at the same time, we do this:\n",
    "\n",
    "#Get rid of the row if more than 13 of the values from each column is Null\n",
    "shark_attacks_new = shark_attacks[shark_attacks.isnull().sum(axis=1) < 13]\n",
    "shark_attacks_new.tail()"
   ]
  },
  {
   "cell_type": "code",
   "execution_count": 594,
   "metadata": {},
   "outputs": [],
   "source": [
    "#We are now going to start to create our first comparations\n",
    "## We want to check the top 5 countries where most shark attacks take place"
   ]
  },
  {
   "cell_type": "code",
   "execution_count": 595,
   "metadata": {},
   "outputs": [
    {
     "data": {
      "text/plain": [
       "USA                 2219\n",
       "AUSTRALIA           1330\n",
       "SOUTH AFRICA         578\n",
       "PAPUA NEW GUINEA     134\n",
       "NEW ZEALAND          127\n",
       "Name: Country, dtype: int64"
      ]
     },
     "execution_count": 595,
     "metadata": {},
     "output_type": "execute_result"
    }
   ],
   "source": [
    "#This column might have data wich is not following the same structure, but if we focuss on the bigger picture\n",
    "#those values would never sum to be as big as the top3, so we are going to omit them,\n",
    "#And create variables that only include the top values\n",
    "\n",
    "top_countries = shark_attacks_new['Country'].value_counts().head(5)\n",
    "top_countries"
   ]
  },
  {
   "cell_type": "code",
   "execution_count": 596,
   "metadata": {},
   "outputs": [
    {
     "data": {
      "text/plain": [
       "2015.0    143\n",
       "2017.0    135\n",
       "2016.0    130\n",
       "2011.0    128\n",
       "2014.0    126\n",
       "Name: Year, dtype: int64"
      ]
     },
     "execution_count": 596,
     "metadata": {},
     "output_type": "execute_result"
    }
   ],
   "source": [
    "top_years= shark_attacks_new['Year'].value_counts().head(5)\n",
    "top_years"
   ]
  },
  {
   "cell_type": "code",
   "execution_count": 598,
   "metadata": {},
   "outputs": [
    {
     "data": {
      "text/plain": [
       "Florida            1034\n",
       "New South Wales     485\n",
       "Queensland          309\n",
       "Hawaii              294\n",
       "California          288\n",
       "Name: Area, dtype: int64"
      ]
     },
     "execution_count": 598,
     "metadata": {},
     "output_type": "execute_result"
    }
   ],
   "source": [
    "shark_attacks_new['Area'].value_counts().head(5)"
   ]
  },
  {
   "cell_type": "code",
   "execution_count": 599,
   "metadata": {},
   "outputs": [
    {
     "data": {
      "text/plain": [
       "Surfing         965\n",
       "Swimming        863\n",
       "Fishing         430\n",
       "Spearfishing    331\n",
       "Bathing         159\n",
       "Name: Activity, dtype: int64"
      ]
     },
     "execution_count": 599,
     "metadata": {},
     "output_type": "execute_result"
    }
   ],
   "source": [
    "prueba= shark_attacks_new['Activity'].value_counts().head(5)\n",
    "prueba"
   ]
  },
  {
   "cell_type": "code",
   "execution_count": 600,
   "metadata": {},
   "outputs": [
    {
     "data": {
      "text/plain": [
       "17    154\n",
       "18    149\n",
       "19    142\n",
       "20    141\n",
       "15    138\n",
       "Name: Age, dtype: int64"
      ]
     },
     "execution_count": 600,
     "metadata": {},
     "output_type": "execute_result"
    }
   ],
   "source": [
    "shark_attacks_new['Age'].value_counts().head(5)"
   ]
  },
  {
   "cell_type": "code",
   "execution_count": 601,
   "metadata": {},
   "outputs": [
    {
     "data": {
      "text/plain": [
       "C. Moore, GSAF        105\n",
       "C. Creswell, GSAF      92\n",
       "S. Petersohn, GSAF     80\n",
       "R. Collier             54\n",
       "T. Peake, GSAF         48\n",
       "Name: Investigator or Source, dtype: int64"
      ]
     },
     "execution_count": 601,
     "metadata": {},
     "output_type": "execute_result"
    }
   ],
   "source": [
    "shark_attacks_new['Investigator or Source'].value_counts().head(5)"
   ]
  },
  {
   "cell_type": "code",
   "execution_count": 602,
   "metadata": {},
   "outputs": [
    {
     "data": {
      "text/plain": [
       "M          5069\n",
       "F           636\n",
       "UNKNOWN       2\n",
       "Name: Sex, dtype: int64"
      ]
     },
     "execution_count": 602,
     "metadata": {},
     "output_type": "execute_result"
    }
   ],
   "source": [
    "shark_attacks_new = shark_attacks_new.rename(columns= {'Sex ': 'Sex'})\n",
    "shark_attacks_new['Sex'].value_counts().head(10)\n",
    "#We can see that there are 6 values that dont match with neither M or F, so I rearrange it:\n",
    "\n",
    "shark_attacks_new[\"Sex\"].replace({\"N\":\"M\", \"lli\": \"UNKNOWN\", \"M \": \"M\", \".\":\"UNKNOWN\"}, inplace=True)\n",
    "shark_attacks_new['Sex'].value_counts().head(10)\n"
   ]
  },
  {
   "cell_type": "code",
   "execution_count": 603,
   "metadata": {},
   "outputs": [
    {
     "data": {
      "text/plain": [
       "White shark                                           162\n",
       "Shark involvement prior to death was not confirmed    105\n",
       "Invalid                                               102\n",
       "Shark involvement not confirmed                        88\n",
       "Tiger shark                                            73\n",
       "Name: Species, dtype: int64"
      ]
     },
     "execution_count": 603,
     "metadata": {},
     "output_type": "execute_result"
    }
   ],
   "source": [
    "shark_attacks_new = shark_attacks_new.rename(columns= {'Species ': 'Species'})\n",
    "shark_attacks_new['Species'].value_counts().head(5)\n",
    "\n"
   ]
  },
  {
   "cell_type": "code",
   "execution_count": 604,
   "metadata": {},
   "outputs": [
    {
     "data": {
      "text/plain": [
       "N          4277\n",
       "Y          1381\n",
       "UNKNOWN      71\n",
       "Name: Fatal (Y/N), dtype: int64"
      ]
     },
     "execution_count": 604,
     "metadata": {},
     "output_type": "execute_result"
    }
   ],
   "source": [
    "shark_attacks_new['Fatal (Y/N)'].value_counts().head(10)\n",
    "#We can see that there are values that dont match with neither N ,Y or UNKNOWN, hence why we do the following\n",
    "\n",
    "shark_attacks_new[\"Fatal (Y/N)\"].replace({\" N\":\"N\", \"2017\": \"UNKNOWN\", \"M\": \"N\", \"y\":\"Y\", \"N \": \"N\"}, inplace=True)\n",
    "shark_attacks_new['Fatal (Y/N)'].value_counts().head(10)\n"
   ]
  },
  {
   "cell_type": "markdown",
   "metadata": {},
   "source": [
    "# Hypothesis"
   ]
  },
  {
   "cell_type": "code",
   "execution_count": 605,
   "metadata": {},
   "outputs": [],
   "source": [
    "#I would like to study the presence of women in the attacks, hence why I create the following hypothesis"
   ]
  },
  {
   "cell_type": "code",
   "execution_count": 606,
   "metadata": {},
   "outputs": [],
   "source": [
    "#Check the amount of attacks on females through the years"
   ]
  },
  {
   "cell_type": "code",
   "execution_count": 607,
   "metadata": {},
   "outputs": [
    {
     "data": {
      "text/plain": [
       "<AxesSubplot:xlabel='Sex', ylabel='count'>"
      ]
     },
     "execution_count": 607,
     "metadata": {},
     "output_type": "execute_result"
    },
    {
     "data": {
      "image/png": "[encoded data removed]",
      "text/plain": [
       "<Figure size 432x288 with 1 Axes>"
      ]
     },
     "metadata": {
      "needs_background": "light"
     },
     "output_type": "display_data"
    }
   ],
   "source": [
    "import seaborn as sns\n",
    "sns.countplot(x=\"Sex\", data=shark_attacks_new, palette= ('pink','skyblue'))\n"
   ]
  },
  {
   "cell_type": "markdown",
   "metadata": {},
   "source": [
    "#### As we can see, Female representation is very small compared to mens."
   ]
  },
  {
   "cell_type": "code",
   "execution_count": 608,
   "metadata": {},
   "outputs": [
    {
     "data": {
      "text/plain": [
       "N          468\n",
       "Y          106\n",
       "UNKNOWN      4\n",
       "Name: Fatal (Y/N), dtype: int64"
      ]
     },
     "execution_count": 608,
     "metadata": {},
     "output_type": "execute_result"
    }
   ],
   "source": [
    "#I would like to know fatal attacks on women vs men\n",
    "shark_attacks_new[shark_attacks_new[\"Sex\"]==\"F\"][\"Fatal (Y/N)\"].value_counts()"
   ]
  },
  {
   "cell_type": "code",
   "execution_count": 609,
   "metadata": {},
   "outputs": [
    {
     "data": {
      "text/plain": [
       "N          3460\n",
       "Y          1169\n",
       "UNKNOWN      37\n",
       "Name: Fatal (Y/N), dtype: int64"
      ]
     },
     "execution_count": 609,
     "metadata": {},
     "output_type": "execute_result"
    }
   ],
   "source": [
    "shark_attacks_new[shark_attacks_new[\"Sex\"]==\"M\"][\"Fatal (Y/N)\"].value_counts()"
   ]
  },
  {
   "cell_type": "code",
   "execution_count": 610,
   "metadata": {},
   "outputs": [
    {
     "data": {
      "text/html": [
       "<div>\n",
       "<style scoped>\n",
       "    .dataframe tbody tr th:only-of-type {\n",
       "        vertical-align: middle;\n",
       "    }\n",
       "\n",
       "    .dataframe tbody tr th {\n",
       "        vertical-align: top;\n",
       "    }\n",
       "\n",
       "    .dataframe thead th {\n",
       "        text-align: right;\n",
       "    }\n",
       "</style>\n",
       "<table border=\"1\" class=\"dataframe\">\n",
       "  <thead>\n",
       "    <tr style=\"text-align: right;\">\n",
       "      <th>Sex</th>\n",
       "      <th>F</th>\n",
       "      <th>M</th>\n",
       "    </tr>\n",
       "    <tr>\n",
       "      <th>Fatal (Y/N)</th>\n",
       "      <th></th>\n",
       "      <th></th>\n",
       "    </tr>\n",
       "  </thead>\n",
       "  <tbody>\n",
       "    <tr>\n",
       "      <th>N</th>\n",
       "      <td>468</td>\n",
       "      <td>3460</td>\n",
       "    </tr>\n",
       "    <tr>\n",
       "      <th>UNKNOWN</th>\n",
       "      <td>4</td>\n",
       "      <td>37</td>\n",
       "    </tr>\n",
       "    <tr>\n",
       "      <th>Y</th>\n",
       "      <td>106</td>\n",
       "      <td>1169</td>\n",
       "    </tr>\n",
       "  </tbody>\n",
       "</table>\n",
       "</div>"
      ],
      "text/plain": [
       "Sex            F     M\n",
       "Fatal (Y/N)           \n",
       "N            468  3460\n",
       "UNKNOWN        4    37\n",
       "Y            106  1169"
      ]
     },
     "execution_count": 610,
     "metadata": {},
     "output_type": "execute_result"
    }
   ],
   "source": [
    "#In order to work with these values, we need to create a new data frame\n",
    "\n",
    "df_f= shark_attacks_new.drop(shark_attacks_new[shark_attacks_new[\"Sex\"] != \"F\"].index)\n",
    "df_f.head(5)\n",
    "df_m= shark_attacks_new.drop(shark_attacks_new[shark_attacks_new[\"Sex\"] != \"M\"].index)\n",
    "df_m.head(5)\n",
    "\n",
    "df_fandm=pd.concat([df_f,df_m])\n",
    "df_fandm\n",
    "\n",
    "# Now we compare f and m and see whether its Fatal (Y/N), by using a crosstab()\n",
    "pd.crosstab(index=df_fandm[\"Fatal (Y/N)\"], columns=df_fandm[\"Sex\"])"
   ]
  },
  {
   "cell_type": "code",
   "execution_count": 611,
   "metadata": {},
   "outputs": [
    {
     "data": {
      "image/png": "[encoded data removed]",
      "text/plain": [
       "<Figure size 432x288 with 1 Axes>"
      ]
     },
     "metadata": {
      "needs_background": "light"
     },
     "output_type": "display_data"
    }
   ],
   "source": [
    "plot = pd.crosstab(index=df_fandm[\"Sex\"],columns=df_fandm[\"Fatal (Y/N)\"]).apply(lambda x: x/x.sum(), axis=1).plot(kind=\"bar\",color= ('plum','lightgrey','purple'))"
   ]
  },
  {
   "cell_type": "markdown",
   "metadata": {},
   "source": [
    "#### Females die less from shark attacks than men"
   ]
  },
  {
   "cell_type": "code",
   "execution_count": 615,
   "metadata": {},
   "outputs": [
    {
     "data": {
      "text/plain": [
       "Swimming      154\n",
       "Surfing        55\n",
       "Wading         54\n",
       "Snorkeling     42\n",
       "Standing       28\n",
       "Name: Activity, dtype: int64"
      ]
     },
     "execution_count": 615,
     "metadata": {},
     "output_type": "execute_result"
    }
   ],
   "source": [
    "#Activity wich causes most of the attacks in women vs men\n",
    "shark_attacks_new[shark_attacks_new[\"Sex\"]==\"F\"][\"Activity\"].value_counts().head(5)"
   ]
  },
  {
   "cell_type": "code",
   "execution_count": 613,
   "metadata": {},
   "outputs": [
    {
     "data": {
      "text/plain": [
       "Surfing         884\n",
       "Swimming        688\n",
       "Fishing         330\n",
       "Spearfishing    311\n",
       "Bathing         138\n",
       "Name: Activity, dtype: int64"
      ]
     },
     "execution_count": 613,
     "metadata": {},
     "output_type": "execute_result"
    }
   ],
   "source": [
    "shark_attacks_new[shark_attacks_new[\"Sex\"]==\"M\"][\"Activity\"].value_counts().head(5)"
   ]
  },
  {
   "cell_type": "code",
   "execution_count": 614,
   "metadata": {},
   "outputs": [
    {
     "data": {
      "text/plain": [
       "([<matplotlib.axis.XTick at 0x7f52fc6dc850>,\n",
       "  <matplotlib.axis.XTick at 0x7f52fc6dc820>,\n",
       "  <matplotlib.axis.XTick at 0x7f52fc6d2880>],\n",
       " [Text(0, 0, 'Surfing'), Text(1, 0, 'Swimming'), Text(2, 0, 'Fishing')])"
      ]
     },
     "execution_count": 614,
     "metadata": {},
     "output_type": "execute_result"
    },
    {
     "data": {
      "image/png": "[encoded data removed]",
      "text/plain": [
       "<Figure size 432x288 with 2 Axes>"
      ]
     },
     "metadata": {
      "needs_background": "light"
     },
     "output_type": "display_data"
    }
   ],
   "source": [
    "D_F = {'Swimming':154, 'Surfing': 55, 'Wading':54}\n",
    "D_M = {'Surfing': 885,'Swimming':688, 'Fishing':54}\n",
    "\n",
    "\n",
    "plt.subplot(1,2,1) # (nrows, ncols, index)\n",
    "plt.bar(range(len(D_F)), list(D_F.values()), align='center', color= ('darkgreen','mediumseagreen','aquamarine'))\n",
    "plt.xticks(range(len(D_F)), list(D_F.keys()))\n",
    "\n",
    "plt.subplot(1,2,2)\n",
    "plt.bar(range(len(D_M)), list(D_M.values()), align='center',color= ('darkgreen','mediumseagreen','aquamarine'))\n",
    "plt.xticks(range(len(D_M)), list(D_M.keys()))"
   ]
  },
  {
   "cell_type": "markdown",
   "metadata": {},
   "source": [
    "#### We can see how the activities vary a lot from f to m. Women get attacked mostly while swimming while men get attacked when surfing"
   ]
  },
  {
   "cell_type": "code",
   "execution_count": 635,
   "metadata": {},
   "outputs": [
    {
     "data": {
      "text/plain": [
       "USA             337\n",
       "AUSTRALIA        88\n",
       "SOUTH AFRICA     26\n",
       "BAHAMAS          15\n",
       "NEW ZEALAND      13\n",
       "Name: Country, dtype: int64"
      ]
     },
     "execution_count": 635,
     "metadata": {},
     "output_type": "execute_result"
    }
   ],
   "source": [
    "#Now I will check, in wih country women are attacked the most\n",
    "#Activity wich causes most of the attacks in women vs men\n",
    "shark_attacks_new[shark_attacks_new[\"Sex\"]==\"F\"][\"Country\"].value_counts().head(5)"
   ]
  },
  {
   "cell_type": "code",
   "execution_count": 617,
   "metadata": {},
   "outputs": [
    {
     "data": {
      "text/plain": [
       "USA                 1783\n",
       "AUSTRALIA           1102\n",
       "SOUTH AFRICA         489\n",
       "PAPUA NEW GUINEA     108\n",
       "NEW ZEALAND           99\n",
       "Name: Country, dtype: int64"
      ]
     },
     "execution_count": 617,
     "metadata": {},
     "output_type": "execute_result"
    }
   ],
   "source": [
    "shark_attacks_new[shark_attacks_new[\"Sex\"]==\"M\"][\"Country\"].value_counts().head(5)"
   ]
  },
  {
   "cell_type": "code",
   "execution_count": 634,
   "metadata": {},
   "outputs": [
    {
     "data": {
      "text/plain": [
       "([<matplotlib.axis.XTick at 0x7f52fda26070>,\n",
       "  <matplotlib.axis.XTick at 0x7f52fd598af0>,\n",
       "  <matplotlib.axis.XTick at 0x7f52fd4d3130>],\n",
       " [Text(0, 0, 'USA'), Text(1, 0, 'AUSTRALIA'), Text(2, 0, 'SOUTH AFRICA')])"
      ]
     },
     "execution_count": 634,
     "metadata": {},
     "output_type": "execute_result"
    },
    {
     "data": {
      "image/png": "[encoded data removed]",
      "text/plain": [
       "<Figure size 432x288 with 2 Axes>"
      ]
     },
     "metadata": {
      "needs_background": "light"
     },
     "output_type": "display_data"
    }
   ],
   "source": [
    "Dc_F = {'USA':337, 'AUSTRALIA': 88, 'SOUTH AFRICA':26}\n",
    "Dc_M = {'USA': 1783,'AUSTRALIA':1102, 'SOUTH AFRICA':489}\n",
    "\n",
    "\n",
    "plt.subplot(1,2,1) # (nrows, ncols, index)\n",
    "plt.bar(range(len(Dc_F)), list(Dc_F.values()), align='center', color= ('slateblue','lightskyblue','lightcyan'))\n",
    "plt.xticks(range(len(Dc_F)), list(Dc_F.keys()))\n",
    "\n",
    "plt.subplot(1,2,2)\n",
    "plt.bar(range(len(Dc_M)), list(Dc_M.values()), align='center',color= ('slateblue','lightskyblue','lightcyan'))\n",
    "plt.xticks(range(len(Dc_M)), list(Dc_M.keys()))"
   ]
  },
  {
   "cell_type": "markdown",
   "metadata": {},
   "source": [
    "#### The gap, between attacks in different countries in women is bigger than in men, this could be due to the fact that men get attacked mostly when surfing while women when swimming, we could supose that this means that women swim more in USA than in Australia"
   ]
  },
  {
   "cell_type": "code",
   "execution_count": null,
   "metadata": {},
   "outputs": [],
   "source": []
  },
  {
   "cell_type": "code",
   "execution_count": null,
   "metadata": {},
   "outputs": [],
   "source": []
  },
  {
   "cell_type": "code",
   "execution_count": null,
   "metadata": {},
   "outputs": [],
   "source": []
  }
 ],
 "metadata": {
  "kernelspec": {
   "display_name": "Python 3",
   "language": "python",
   "name": "python3"
  },
  "language_info": {
   "codemirror_mode": {
    "name": "ipython",
    "version": 3
   },
   "file_extension": ".py",
   "mimetype": "text/x-python",
   "name": "python",
   "nbconvert_exporter": "python",
   "pygments_lexer": "ipython3",
   "version": "3.8.5"
  }
 },
 "nbformat": 4,
 "nbformat_minor": 4
}
